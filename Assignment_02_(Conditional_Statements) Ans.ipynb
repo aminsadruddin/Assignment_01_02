{
  "cells": [
    {
      "cell_type": "markdown",
      "metadata": {
        "id": "KMD2vk4GzAYX"
      },
      "source": [
        "1) A company decided to give bonus of 5% to employee if his/her year of service is more than 5 years.\n",
        "Ask user for their salary and year of service and print the net bonus amount."
      ]
    },
    {
      "cell_type": "code",
      "execution_count": null,
      "metadata": {
        "colab": {
          "base_uri": "https://localhost:8080/"
        },
        "id": "zHxlSYzczAYc",
        "outputId": "413ff98d-57e1-4c13-9535-9e5b713fb25e"
      },
      "outputs": [
        {
          "output_type": "stream",
          "name": "stdout",
          "text": [
            "Enter your Salary:100000\n",
            "Enter number of years working in this organization: 6\n",
            "Bonus is 5000.0\n"
          ]
        }
      ],
      "source": [
        "#Type your code here\n",
        "salary = int(input(\"Enter your Salary:\"))\n",
        "no_of_services = int(input(\"Enter number of years working in this organization: \"))\n",
        "\n",
        "if no_of_services > 5:\n",
        "   bonus = salary * 5/100\n",
        "   print(\"Bonus is\", bonus)\n",
        "else:\n",
        "  print(\"No Bonus\")\n",
        "\n"
      ]
    },
    {
      "cell_type": "code",
      "source": [
        "try:\n",
        "  salary = int(input(\"Enter your Salary:\"))\n",
        "  no_of_services = int(input(\"Enter number of years working in this organization: \"))\n",
        "\n",
        "  if no_of_services > 5:\n",
        "    bonus = salary * 5/100\n",
        "    print(\"Bonus is\", bonus)\n",
        "  else:\n",
        "    print(\"No Bonus\")\n",
        "except ValueError:\n",
        "  print(\"Value Error please enter numaric keys\")\n"
      ],
      "metadata": {
        "colab": {
          "base_uri": "https://localhost:8080/"
        },
        "id": "775xao0F1wMS",
        "outputId": "12bc286a-81b3-4a0a-e9f7-e24abb8a6f0d"
      },
      "execution_count": null,
      "outputs": [
        {
          "output_type": "stream",
          "name": "stdout",
          "text": [
            "Enter your Salary:222222222\n",
            "Enter number of years working in this organization: 2\n",
            "No Bonus\n"
          ]
        }
      ]
    },
    {
      "cell_type": "markdown",
      "metadata": {
        "id": "xn97DjqazAYe"
      },
      "source": [
        "\n",
        "2) Write a program to check whether a person is eligible for voting or not. (accept age from user) if age is greater than 17 eligible otherwise not eligible"
      ]
    },
    {
      "cell_type": "code",
      "execution_count": null,
      "metadata": {
        "id": "sZFnDkdZzAYe",
        "colab": {
          "base_uri": "https://localhost:8080/"
        },
        "outputId": "f0dd952c-ba25-42cf-e7ed-a7e84a4d1d63"
      },
      "outputs": [
        {
          "output_type": "stream",
          "name": "stdout",
          "text": [
            "Enter your age : 12\n",
            "sorry your are unber 18 and not elgible for voiting\n"
          ]
        }
      ],
      "source": [
        "#Type your code here\n",
        "try:\n",
        "  voting_age = int(input(\"Enter your age : \"))\n",
        "  if voting_age > 17:\n",
        "    print(f\"your are elegible for voting\")\n",
        "\n",
        "  else:\n",
        "    print(f\"sorry your are unber 18 and not elgible for voiting\")\n",
        "\n",
        "except:\n",
        "  print(\"enter numaric value\")\n",
        "\n",
        "\n"
      ]
    },
    {
      "cell_type": "markdown",
      "metadata": {
        "id": "pxcxxVZuzAYe"
      },
      "source": [
        "\n",
        "3) Write a program to check whether a number entered by user is even or odd."
      ]
    },
    {
      "cell_type": "code",
      "execution_count": null,
      "metadata": {
        "id": "G7DgXIAbzAYf",
        "colab": {
          "base_uri": "https://localhost:8080/"
        },
        "outputId": "5e879f60-dc8d-44d2-b9b4-d8d50cbe7c08"
      },
      "outputs": [
        {
          "output_type": "stream",
          "name": "stdout",
          "text": [
            "please enter the number : 3\n",
            "3  number is odd\n"
          ]
        }
      ],
      "source": [
        "#Type your code here\n",
        "\n",
        "a = int(input(\"please enter the number : \"))\n",
        "if a % 2 == 0:\n",
        "  print(a, \" number is even\")\n",
        "else:\n",
        "  print(a,\" number is odd\")"
      ]
    },
    {
      "cell_type": "markdown",
      "metadata": {
        "id": "Ap7TBzs7zAYf"
      },
      "source": [
        "4) Write a program to check whether a number is divisible by 7 or not.\n",
        "Show Answer"
      ]
    },
    {
      "cell_type": "code",
      "execution_count": null,
      "metadata": {
        "id": "JYKwcj86zAYf",
        "colab": {
          "base_uri": "https://localhost:8080/"
        },
        "outputId": "b3921acf-8dc1-4a0e-aa2e-57641e1c9cee"
      },
      "outputs": [
        {
          "output_type": "stream",
          "name": "stdout",
          "text": [
            "please enter the number : 71\n",
            "71  number is not divisible by 7\n"
          ]
        }
      ],
      "source": [
        "#Type your code here\n",
        "a = int(input(\"please enter the number : \"))\n",
        "if a % 7 == 0:\n",
        "  print(a, \" number is divisible by 7\")\n",
        "else:\n",
        "  print(a,\" number is not divisible by 7\")"
      ]
    },
    {
      "cell_type": "markdown",
      "metadata": {
        "id": "4_nktbe0zAYg"
      },
      "source": [
        "5) Write a program to display\n",
        "\"Hello\" if a number entered by user is a multiple of five , otherwise print \"Bye\"."
      ]
    },
    {
      "cell_type": "code",
      "execution_count": null,
      "metadata": {
        "id": "XsiM0BTozAYg"
      },
      "outputs": [],
      "source": [
        "#Type your code here\n",
        "a = int(input(\"please enter the number : \"))\n",
        "if a % 5 == 0:\n",
        "  print(\"Hello\")\n",
        "else:\n",
        "  print(\"Bye\")\n"
      ]
    },
    {
      "cell_type": "markdown",
      "metadata": {
        "id": "PTSEyIxgzAYh"
      },
      "source": [
        "7) Write a program to display the last digit of a number.\n"
      ]
    },
    {
      "cell_type": "code",
      "execution_count": null,
      "metadata": {
        "id": "F8GR8uw8zAYh",
        "colab": {
          "base_uri": "https://localhost:8080/"
        },
        "outputId": "9cd4ad1c-ecbd-4d9c-cef9-f12572bfae1e"
      },
      "outputs": [
        {
          "output_type": "stream",
          "name": "stdout",
          "text": [
            "please enter the number : 12311440\n",
            "0\n"
          ]
        }
      ],
      "source": [
        "#Type your code here\n",
        "try:\n",
        "  a = int(input(\"please enter the number : \"))\n",
        "  a = str(a)\n",
        "  print(a[-1])\n",
        "except:\n",
        "  print(\"please input  numaric value only\")\n",
        "\n"
      ]
    },
    {
      "cell_type": "markdown",
      "metadata": {
        "id": "ilqIYZlfzAYh"
      },
      "source": [
        "9) Take values of length and breadth of a rectangle from user and print if it is square or rectangle."
      ]
    },
    {
      "cell_type": "code",
      "execution_count": null,
      "metadata": {
        "id": "koEdVQOgzAYh",
        "colab": {
          "base_uri": "https://localhost:8080/"
        },
        "outputId": "3d959737-2e95-403b-ae3d-04fc117b9613"
      },
      "outputs": [
        {
          "output_type": "stream",
          "name": "stdout",
          "text": [
            " please enter the lenght : 2\n",
            " please enter the breadth : 3\n",
            "lenght  2 breadth  3  it is Rectangle\n"
          ]
        }
      ],
      "source": [
        "#Type your code here\n",
        "\n",
        "a = int(input(\" please enter the lenght : \"))\n",
        "b = int(input(\" please enter the breadth : \"))\n",
        "\n",
        "if a == b:\n",
        "  print(\"lenght \", a ,\"breadth \",b, \" it is Square\")\n",
        "else:\n",
        "  print(\"lenght \", a ,\"breadth \",b, \" it is Rectangle\")\n"
      ]
    },
    {
      "cell_type": "markdown",
      "metadata": {
        "id": "Byx0QbZjzAYi"
      },
      "source": [
        "10) Take two int values from user and print greatest among them."
      ]
    },
    {
      "cell_type": "code",
      "execution_count": null,
      "metadata": {
        "id": "Y71JqfyGzAYi",
        "colab": {
          "base_uri": "https://localhost:8080/"
        },
        "outputId": "41ed2557-1609-46da-c71f-c6e68a727a27"
      },
      "outputs": [
        {
          "output_type": "stream",
          "name": "stdout",
          "text": [
            "Enter the 1st Value : 2\n",
            "Enter the 2nd Value : 13213\n",
            "13213   is grater then  2\n"
          ]
        }
      ],
      "source": [
        "# Type your code here\n",
        "a = int(input(\"Enter the 1st Value : \"))\n",
        "b = int(input(\"Enter the 2nd Value : \"))\n",
        "\n",
        "if a > b:\n",
        "  print (a, \"  is grater then \", b)\n",
        "else:\n",
        "  print (b, \"  is grater then \", a)"
      ]
    },
    {
      "cell_type": "markdown",
      "metadata": {
        "id": "_S2R9sIbzAYi"
      },
      "source": [
        "11) A shop will give discount of 10% if the cost of purchased quantity is more than 1000.\n",
        "Ask user for quantity\n",
        "Suppose, one unit will cost 100.\n",
        "Judge and print total cost for user."
      ]
    },
    {
      "cell_type": "code",
      "execution_count": null,
      "metadata": {
        "id": "mqTKrZaozAYi"
      },
      "outputs": [],
      "source": [
        "#Type your code here"
      ]
    },
    {
      "cell_type": "markdown",
      "metadata": {
        "id": "E7JLtJMKzAYj"
      },
      "source": [
        "12) A school has following rules for grading system:\n",
        "\n",
        "a. Below 25 - F\n",
        "\n",
        "b. 25 to 45 - E\n",
        "\n",
        "c. 45 to 50 - D\n",
        "\n",
        "d. 50 to 60 - C\n",
        "\n",
        "e. 60 to 80 - B\n",
        "\n",
        "f. Above 80 - A\n",
        "\n",
        "Ask user to enter marks and print the corresponding grade."
      ]
    },
    {
      "cell_type": "code",
      "execution_count": null,
      "metadata": {
        "id": "k1RITHEIzAYj",
        "colab": {
          "base_uri": "https://localhost:8080/"
        },
        "outputId": "855bbd1f-2079-4b01-8cdf-4bebb0b351ac"
      },
      "outputs": [
        {
          "output_type": "stream",
          "name": "stdout",
          "text": [
            "Please enter your total makrs24\n",
            "your total marks are  24  and your grade is F\n"
          ]
        }
      ],
      "source": [
        "#Type your code here\n",
        "marks = int (input(\"Please enter your total makrs\"))\n",
        "\n",
        "if marks >= 80 and marks <  101:\n",
        "  print(\"your total marks are \", marks, \" and your grade is A\")\n",
        "\n",
        "elif marks >= 60  and marks < 80:\n",
        "  print(\"your total marks are \", marks, \" and your grade is B\")\n",
        "\n",
        "elif marks >= 50 and marks < 60:\n",
        "  print(\"your total marks are \", marks, \" and your grade is C\")\n",
        "\n",
        "elif marks >= 45 and marks < 50:\n",
        "  print(\"your total marks are \", marks, \" and your grade is D\")\n",
        "\n",
        "elif marks >= 25 and marks < 45:\n",
        "  print(\"your total marks are \", marks, \" and your grade is E\")\n",
        "\n",
        "elif marks  < 25:\n",
        "  print(\"your total marks are \", marks, \" and your grade is F\")\n",
        "\n",
        "else:\n",
        "  print(\"invalid marks\")"
      ]
    },
    {
      "cell_type": "markdown",
      "metadata": {
        "id": "YYptwdKfzAYj"
      },
      "source": [
        "14)A student will not be allowed to sit in exam if his/her attendence is less than 75%.\n",
        "\n",
        "Take following input from user\n",
        "\n",
        "Number of classes held\n",
        "\n",
        "Number of classes attended.\n",
        "\n",
        "And print\n",
        "\n",
        "percentage of class attended\n",
        "\n",
        "Is student is allowed to sit in exam or not.\n"
      ]
    },
    {
      "cell_type": "code",
      "source": [
        "#Type your code here\n",
        "class_held = int(input(\"Enter the Number of Classes Held: \"))\n",
        "class_attend = int(input(\"Enter the Number of Classes Attended: \"))\n",
        "percentage = (class_attend / class_held *100 )\n",
        "\n",
        "print (f\" percentage of class attended {percentage}\")\n",
        "\n",
        "if percentage < 75:\n",
        "  print(\" your are not allow to sit in exam \")\n",
        "else:\n",
        "  print(\" your are allow to sit in exam\")"
      ],
      "metadata": {
        "colab": {
          "base_uri": "https://localhost:8080/"
        },
        "id": "DeokEv7N_Lxf",
        "outputId": "2b1c9b77-ad22-4df8-cc29-bcccf3ea2e66"
      },
      "execution_count": 1,
      "outputs": [
        {
          "output_type": "stream",
          "name": "stdout",
          "text": [
            "Enter the Number of Classes Held: 10\n",
            "Enter the Number of Classes Attended: 10\n",
            " percentage of class attended 100.0\n",
            " your are allow to sit in exam\n"
          ]
        }
      ]
    },
    {
      "cell_type": "code",
      "execution_count": null,
      "metadata": {
        "id": "RUJ1_jq_zAYj"
      },
      "outputs": [],
      "source": [
        "#Type your code here\n",
        "\n"
      ]
    },
    {
      "cell_type": "markdown",
      "metadata": {
        "id": "8inZFIutzAYj"
      },
      "source": [
        "15) Modify the above question to allow student to sit if he/she has medical cause. Ask user if he/she has medical cause or not ( 'Y' or 'N' ) and print accordingly."
      ]
    },
    {
      "cell_type": "code",
      "execution_count": 2,
      "metadata": {
        "id": "2m6vfWfAzAYk",
        "colab": {
          "base_uri": "https://localhost:8080/"
        },
        "outputId": "23b83779-35b3-4ade-f15b-2506c34ad696"
      },
      "outputs": [
        {
          "output_type": "stream",
          "name": "stdout",
          "text": [
            "Enter the Number of Classes Held: 10\n",
            "Enter the Number of Classes Attended: 7\n",
            " absent due to any madical cause or not :True\n",
            " percentage of class attended 70.0\n",
            " your are allow to sit in exam\n"
          ]
        }
      ],
      "source": [
        "#Type your code here\n",
        "\n",
        "class_held = int(input(\"Enter the Number of Classes Held: \"))\n",
        "class_attend = int(input(\"Enter the Number of Classes Attended: \"))\n",
        "medical_cause = bool(input(\" absent due to any madical cause or not :\"))\n",
        "percentage = (class_attend / class_held *100 )\n",
        "\n",
        "print (f\" percentage of class attended {percentage}\")\n",
        "\n",
        "if percentage < 75 and medical_cause == False:\n",
        "  print(\" your are not allow to sit in exam \")\n",
        "else:\n",
        "  print(\" your are allow to sit in exam\")\n",
        "\n",
        "\n",
        "\n"
      ]
    },
    {
      "cell_type": "markdown",
      "metadata": {
        "id": "bCbvV48ozAYk"
      },
      "source": [
        "16) Write a program to check if a year is leap year or not.\n",
        "\n",
        "If a year is divisible by 4 then it is leap year but if the year is century year like 2000, 1900, 2100 then it must be divisible by 400."
      ]
    },
    {
      "cell_type": "code",
      "execution_count": 4,
      "metadata": {
        "id": "lfNkqpLpzAYk",
        "colab": {
          "base_uri": "https://localhost:8080/"
        },
        "outputId": "254a6ddf-3bce-4d7e-e40f-1e929521fb9b"
      },
      "outputs": [
        {
          "output_type": "stream",
          "name": "stdout",
          "text": [
            " please enter the year : 2000\n",
            "2000  is leap year\n"
          ]
        }
      ],
      "source": [
        "#Type your code here\n",
        "\n",
        "#Type your code here\n",
        "year = int(input (\" please enter the year : \"))\n",
        "\n",
        "if year % 400 == 0:\n",
        "  print(year, \" is leap year\")\n",
        "else:\n",
        "  print (year,\" not and leap year\")\n"
      ]
    },
    {
      "cell_type": "markdown",
      "metadata": {
        "id": "DufJI1FHzAYk"
      },
      "source": [
        "17) Ask user to enter age, gender ( M or F ), marital status ( Y or N ) and then using following rules print their place of service.\n",
        "\n",
        "if employee is female, then she will work only in urban areas.\n",
        "\n",
        "if employee is a male and age is in between 20 to 40 then he may work in anywhere\n",
        "\n",
        "if employee is male and age is in between 40 t0 60 then he will work in urban areas only.\n",
        "\n",
        "And any other input of age should print \"ERROR\""
      ]
    },
    {
      "cell_type": "code",
      "execution_count": 6,
      "metadata": {
        "id": "YuRpY3tSzAYk",
        "colab": {
          "base_uri": "https://localhost:8080/"
        },
        "outputId": "2245c4d7-e6bc-4db7-f6a6-500218e7dc94"
      },
      "outputs": [
        {
          "output_type": "stream",
          "name": "stdout",
          "text": [
            "enter the age : 60\n",
            "enter the gender (Male / Female) : Male\n",
            "enter the marital status (yes / No): yes\n",
            "he will work in urban areas only.\n"
          ]
        }
      ],
      "source": [
        "#Type your code here\n",
        "\n",
        "age = int(input(\"enter the age : \"))\n",
        "gender = str(input(\"enter the gender (Male / Female) : \"))\n",
        "marital_status = input(\"enter the marital status (yes / No): \")\n",
        "\n",
        "if gender == \"Female\" and age >= 20 and age <= 60:\n",
        "  print(\"she will work only in urban areas.\")\n",
        "elif gender == \"Male\" and age >= 20 and age <= 39:\n",
        "  print(\"he may work in anywhere\")\n",
        "elif gender == \"Male\" and age >= 40 and age <= 60:\n",
        "  print(\"he will work in urban areas only.\")\n",
        "else:\n",
        "  print(\" age error\")\n"
      ]
    },
    {
      "cell_type": "markdown",
      "metadata": {
        "id": "gXmwmeNrzAYk"
      },
      "source": [
        "6) Write a program to calculate the electricity bill (accept number of unit from user) according to the following criteria :\n",
        "     Unit                                                     Price  \n",
        "uptp 100 units                                             no charge\n",
        "Next 200 units                                              Rs 5 per unit\n",
        "After 200 units                                             Rs 10 per unit\n",
        "(For example if input unit is 350 than total bill amount is Rs.3500\n",
        "(For example if input unit is 97 than total bill amount is Rs.0\n",
        "(For example if input unit is 150 than total bill amount is Rs.750"
      ]
    },
    {
      "cell_type": "code",
      "source": [
        "units = int(input(\"enter the units : \"))\n",
        "unit_price = 0\n",
        "\n",
        "if units <= 100:\n",
        "  print(\"no charges , total amount of bill is 0.00\")\n",
        "elif units >100 and units <= 200:\n",
        "  unit_price = units * 5\n",
        "  print(\"your electricity charges are \" , unit_price)\n",
        "else:\n",
        "  unit_price = units * 10\n",
        "  print(\"your electricity charges are \" , unit_price)"
      ],
      "metadata": {
        "colab": {
          "base_uri": "https://localhost:8080/"
        },
        "id": "BmNfVu4S_629",
        "outputId": "5a029904-d108-477f-d99b-8201f2c11c98"
      },
      "execution_count": 7,
      "outputs": [
        {
          "output_type": "stream",
          "name": "stdout",
          "text": [
            "enter the units : 300\n",
            "your electricity charges are  3000\n"
          ]
        }
      ]
    },
    {
      "cell_type": "markdown",
      "metadata": {
        "id": "b6cZdrQZzAYl"
      },
      "source": [
        "13) Take input of age of 3 people by user and determine oldest and youngest among them."
      ]
    },
    {
      "cell_type": "code",
      "execution_count": null,
      "metadata": {
        "id": "cB4-JxKZzAYl"
      },
      "outputs": [],
      "source": [
        "#Type your code here\n",
        "user1 = int(input(\"Enter the age of user1: \"))\n",
        "user2 = int(input(\"Enter the age of user2: \"))\n",
        "user3 = int(input(\"Enter the age of user3: \"))\n",
        "\n",
        "if user1 > user2 and user1 > user3:\n",
        "  print(\"user1 is oldest\")\n",
        "elif user2 > user1 and user2 > user3:\n",
        "  print(\"user2 is oldest\")\n",
        "else:\n",
        "  print(\"user3 is oldest\")\n",
        "\n",
        "if user1 < user2 and user1 < user3:\n",
        "  print(\"user1 is youngest\")\n",
        "elif user2 < user1 and user2 < user3:\n",
        "  print(\"user2 is youngest\")\n",
        "else:\n",
        "  print(\"user3 is youngest\")"
      ]
    }
  ],
  "metadata": {
    "kernelspec": {
      "display_name": "Python 3 (ipykernel)",
      "language": "python",
      "name": "python3"
    },
    "language_info": {
      "codemirror_mode": {
        "name": "ipython",
        "version": 3
      },
      "file_extension": ".py",
      "mimetype": "text/x-python",
      "name": "python",
      "nbconvert_exporter": "python",
      "pygments_lexer": "ipython3",
      "version": "3.11.5"
    },
    "colab": {
      "provenance": []
    }
  },
  "nbformat": 4,
  "nbformat_minor": 0
}