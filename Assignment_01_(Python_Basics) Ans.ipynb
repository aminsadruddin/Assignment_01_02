{
  "cells": [
    {
      "cell_type": "markdown",
      "metadata": {
        "id": "jlgW0SELC0iy"
      },
      "source": [
        "# Part -1 Python Basics (Variables)"
      ]
    },
    {
      "cell_type": "markdown",
      "metadata": {
        "id": "w097Cy8qC0i0"
      },
      "source": [
        "1. Print Your Name with your Father name and Date of birth using suitable escape sequence charactor"
      ]
    },
    {
      "cell_type": "code",
      "execution_count": null,
      "metadata": {
        "colab": {
          "base_uri": "https://localhost:8080/"
        },
        "id": "lzWemwdhC0i1",
        "outputId": "0e7499be-35fd-4985-ec15-0b576671a231"
      },
      "outputs": [
        {
          "output_type": "stream",
          "name": "stdout",
          "text": [
            "\n",
            "Name : Amin\n",
            "Fathers Name : Sadruddin\n",
            "Date of birth : 20 Feb 1983\n"
          ]
        }
      ],
      "source": [
        "# Write your code here\n",
        "\n",
        "print(f\"\"\"\n",
        "Name : Amin\n",
        "Fathers Name : Sadruddin\n",
        "Date of birth : 20 Feb 1983\"\"\")"
      ]
    },
    {
      "cell_type": "markdown",
      "metadata": {
        "id": "HZ2HbiUtC0i2"
      },
      "source": [
        "2. Write your small bio using variables and print it using print function"
      ]
    },
    {
      "cell_type": "code",
      "execution_count": null,
      "metadata": {
        "colab": {
          "base_uri": "https://localhost:8080/"
        },
        "id": "JJ1V6aiQC0i2",
        "outputId": "8f03ca37-817a-4f2e-c6d4-a0fc99976d69"
      },
      "outputs": [
        {
          "output_type": "stream",
          "name": "stdout",
          "text": [
            "\n",
            "My name is Amin and my fathers name is Sadruddin and my date of birth is 20-Feb-1983\n"
          ]
        }
      ],
      "source": [
        "# Write your code here\n",
        "name = \"Amin\"\n",
        "fathers_name = \"Sadruddin\"\n",
        "dob = \"20-Feb-1983\"\n",
        "\n",
        "print(f\"\"\"\n",
        "My name is {name} and my fathers name is {fathers_name} and my date of birth is {dob}\"\"\")"
      ]
    },
    {
      "cell_type": "markdown",
      "metadata": {
        "id": "te0cD7rkC0i2"
      },
      "source": [
        "3. Write a program in which use all the operators we can use in Python"
      ]
    },
    {
      "cell_type": "code",
      "execution_count": null,
      "metadata": {
        "colab": {
          "base_uri": "https://localhost:8080/"
        },
        "id": "uBlBPXLSC0i3",
        "outputId": "de7c8f5e-b3ac-40c2-87eb-4ccd6022b408"
      },
      "outputs": [
        {
          "output_type": "stream",
          "name": "stdout",
          "text": [
            "30\n",
            "10\n",
            "300\n",
            "0.3333333333333333\n",
            "10\n",
            "0\n",
            "10000000000\n"
          ]
        }
      ],
      "source": [
        "# Write your code here\n",
        "a = 10\n",
        "b = 20\n",
        "c = 30\n",
        "#add\n",
        "d = a+b\n",
        "print(d)\n",
        "# sub\n",
        "e = b-a\n",
        "print(e)\n",
        "# mul and div and moduler and exponent\n",
        "f = e*d\n",
        "print(f)\n",
        "g = e/d\n",
        "print(g)\n",
        "h = e%d\n",
        "print(h)\n",
        "i = e//d\n",
        "print(i)\n",
        "j = e**a\n",
        "print(j)"
      ]
    },
    {
      "cell_type": "markdown",
      "metadata": {
        "id": "47pf0WlcC0i3"
      },
      "source": [
        "4. Completes the following steps of small task:\n",
        "    - Mention Marks of English , Islamiat and Maths out of 100 in 3 different variables\n",
        "    - Mention Variable of Total Marks and assign 300 to it\n",
        "    - Calculate Percentage"
      ]
    },
    {
      "cell_type": "code",
      "execution_count": null,
      "metadata": {
        "colab": {
          "base_uri": "https://localhost:8080/"
        },
        "id": "I8wwwG6bC0i4",
        "outputId": "aff3baa6-f3df-45a3-f38c-68188229385d"
      },
      "outputs": [
        {
          "output_type": "stream",
          "name": "stdout",
          "text": [
            "Enter your English Marks: 22\n",
            "Enter your Islamiyat Marks: 22\n",
            "Enter your Maths Marks: 22\n",
            "Your percentage is 22.0\n"
          ]
        }
      ],
      "source": [
        "# Write your code here\n",
        "# English , Islamiat and Maths\n",
        "eng_marks = int(input(\"Enter your English Marks: \"))\n",
        "islamiat_markes = int(input(\"Enter your Islamiyat Marks: \"))\n",
        "maths_markes = int(input(\"Enter your Maths Marks: \"))\n",
        "\n",
        "# Mention Variable of Total Marks and assign 300 to it\n",
        "total_marks = 300\n",
        "\n",
        "# Calculate Percentage\n",
        "percentage = (eng_marks + islamiat_markes + maths_markes)/total_marks*100\n",
        "\n",
        "print(f\"Your percentage is {percentage}\")\n"
      ]
    },
    {
      "cell_type": "markdown",
      "metadata": {
        "id": "6EUb26ahC0i4"
      },
      "source": [
        "# Part -2 Python Basics (Conditional Statements)"
      ]
    },
    {
      "cell_type": "markdown",
      "metadata": {
        "id": "bk-0OghVC0i5"
      },
      "source": [
        "1) A company decided to give bonus of 5% to employee if his/her year of service is more than 5 years.\n",
        "Ask user for their salary and year of service and print the net bonus amount."
      ]
    },
    {
      "cell_type": "code",
      "execution_count": null,
      "metadata": {
        "id": "kvdsL9imC0i5",
        "colab": {
          "base_uri": "https://localhost:8080/"
        },
        "outputId": "7d943ba9-76d2-496b-c70e-4e60ac93ab6d"
      },
      "outputs": [
        {
          "output_type": "stream",
          "name": "stdout",
          "text": [
            "Enter you Salary : 99000\n",
            "Enter your Years of Services: 17\n",
            "you are elegle for the bonus and your bonus amount is ****** 4950.0****\n"
          ]
        }
      ],
      "source": [
        "#Type your code here\n",
        "salary  = int(input(\"Enter you Salary : \"))\n",
        "no_years = int (input(\"Enter your Years of Services: \"))\n",
        "\n",
        "if no_years > 5:\n",
        "  bonus = salary * 5/100\n",
        "  print(f\"you are elegle for the bonus and your bonus amount is ****** {bonus}****\")\n",
        "else:\n",
        "  print(f\" not elegle for the bonus \")\n"
      ]
    },
    {
      "cell_type": "markdown",
      "metadata": {
        "id": "oydYugvwC0i5"
      },
      "source": [
        "\n",
        "2) Write a program to check whether a person is eligible for voting or not. (accept age from user) if age is greater than 17 eligible otherwise not eligible"
      ]
    },
    {
      "cell_type": "code",
      "execution_count": 11,
      "metadata": {
        "id": "PGSL3cXaC0i5",
        "colab": {
          "base_uri": "https://localhost:8080/"
        },
        "outputId": "f72240fa-c76a-4fb8-8905-59a0802dd0b6"
      },
      "outputs": [
        {
          "output_type": "stream",
          "name": "stdout",
          "text": [
            " Enter you age : 21\n",
            "you are eligile for the voting \n"
          ]
        }
      ],
      "source": [
        "#Type your code here\n",
        "\n",
        "age = int (input (\" Enter you age : \"))\n",
        "\n",
        "if age > 17:\n",
        "  print (\"you are eligile for the voting \")\n",
        "\n",
        "else:\n",
        "  print (\" your are under age and not elegible for the voting \")"
      ]
    },
    {
      "cell_type": "markdown",
      "metadata": {
        "id": "zdjOiImeC0i5"
      },
      "source": [
        "\n",
        "3) Write a program to check whether a number entered by user is even or odd."
      ]
    },
    {
      "cell_type": "code",
      "execution_count": 14,
      "metadata": {
        "id": "FieS25MSC0i5",
        "colab": {
          "base_uri": "https://localhost:8080/"
        },
        "outputId": "3012a171-f93d-41b5-c91a-8c5d02898ed0"
      },
      "outputs": [
        {
          "output_type": "stream",
          "name": "stdout",
          "text": [
            " please enter the number: 23\n",
            "23  is odd number\n"
          ]
        }
      ],
      "source": [
        "#Type your code here\n",
        "\n",
        "a1 = int(input(\" please enter the number: \"))\n",
        "\n",
        "if a1 % 2 == 0:\n",
        "  print( a1 , \" is even number\")\n",
        "else:\n",
        "  print( a1 , \" is odd number\")\n"
      ]
    },
    {
      "cell_type": "markdown",
      "metadata": {
        "id": "dsQzznN1C0i6"
      },
      "source": [
        "4) Write a program to check whether a number is divisible by 7 or not.\n",
        "Show Answer"
      ]
    },
    {
      "cell_type": "code",
      "execution_count": 17,
      "metadata": {
        "id": "xjrxxw1iC0i6",
        "colab": {
          "base_uri": "https://localhost:8080/"
        },
        "outputId": "912bbfdf-209f-4919-b42a-09f9de5a4018"
      },
      "outputs": [
        {
          "output_type": "stream",
          "name": "stdout",
          "text": [
            "Enter the number: 49\n",
            "49  number is Divisible by 7\n"
          ]
        }
      ],
      "source": [
        "#Type your code here\n",
        "\n",
        "a2 = int (input(\"Enter the number: \"))\n",
        "\n",
        "if a2 % 7 == 0:\n",
        "  print(a2 , \" number is Divisible by 7\")\n",
        "\n",
        "else:\n",
        "  print(f\" {a2} in not Divisible by 7\")"
      ]
    },
    {
      "cell_type": "markdown",
      "metadata": {
        "id": "fw_gnGasC0i6"
      },
      "source": [
        "5) Write a program to display\n",
        "\"Hello\" if a number entered by user is a multiple of five , otherwise print \"Bye\"."
      ]
    },
    {
      "cell_type": "code",
      "execution_count": 21,
      "metadata": {
        "id": "M1I9_dGVC0i6",
        "colab": {
          "base_uri": "https://localhost:8080/"
        },
        "outputId": "33e92a3d-8e62-435a-95af-256acf23b229"
      },
      "outputs": [
        {
          "output_type": "stream",
          "name": "stdout",
          "text": [
            "Enter the number: 5\n",
            "Hello\n"
          ]
        }
      ],
      "source": [
        "#Type your code here\n",
        "\n",
        "a3 = int (input(\"Enter the number: \"))\n",
        "\n",
        "if a3 % 5 == 0:\n",
        "  print(\"Hello\")\n",
        "\n",
        "else:\n",
        "  print(\"Bye\")"
      ]
    },
    {
      "cell_type": "markdown",
      "metadata": {
        "id": "4JbXpEE5C0i6"
      },
      "source": [
        "7) Write a program to display the last digit of a number.\n"
      ]
    },
    {
      "cell_type": "code",
      "execution_count": 24,
      "metadata": {
        "id": "exKUaCJoC0i6",
        "colab": {
          "base_uri": "https://localhost:8080/"
        },
        "outputId": "da2bb312-8335-44e4-d7e6-52293bd94aa2"
      },
      "outputs": [
        {
          "output_type": "stream",
          "name": "stdout",
          "text": [
            "Enter the number: 5786\n",
            "6\n"
          ]
        }
      ],
      "source": [
        "#Type your code here\n",
        "a6 = int (input(\"Enter the number: \"))\n",
        "\n",
        "print(a6 % 10)"
      ]
    },
    {
      "cell_type": "code",
      "source": [
        "# or thru Sliceing\n",
        "a7 = int (input(\"Enter the number: \"))\n",
        "a8 = str(a7)\n",
        "print(a8[-1])\n"
      ],
      "metadata": {
        "colab": {
          "base_uri": "https://localhost:8080/"
        },
        "id": "-zdJS31Rp9Qh",
        "outputId": "e523d804-4813-4ad8-dd57-de71b078b0bc"
      },
      "execution_count": 26,
      "outputs": [
        {
          "output_type": "stream",
          "name": "stdout",
          "text": [
            "Enter the number: 5786\n",
            "6\n"
          ]
        }
      ]
    },
    {
      "cell_type": "markdown",
      "metadata": {
        "id": "-w5bHYBqC0i6"
      },
      "source": [
        "9) Take values of length and breadth of a rectangle from user and print if it is square or rectangle."
      ]
    },
    {
      "cell_type": "code",
      "execution_count": 28,
      "metadata": {
        "id": "AZuLbFkcC0i6",
        "colab": {
          "base_uri": "https://localhost:8080/"
        },
        "outputId": "0df5b8d4-b92c-4940-d5d1-99ee2c01efcb"
      },
      "outputs": [
        {
          "output_type": "stream",
          "name": "stdout",
          "text": [
            "Enter the Lenght: 333\n",
            "Enter the Breadth: 333\n",
            "It is Square\n"
          ]
        }
      ],
      "source": [
        "#Type your code here\n",
        "lenght = int(input(\"Enter the Lenght: \"))\n",
        "breadth = int(input(\"Enter the Breadth: \"))\n",
        "\n",
        "if lenght != breadth:\n",
        "  print(\"It is Rectangle\")\n",
        "else:\n",
        "  print(\"It is Square\")\n"
      ]
    },
    {
      "cell_type": "code",
      "source": [
        "lenght = int(input(\"Enter the Lenght: \"))\n",
        "breadth = int(input(\"Enter the Breadth: \"))\n",
        "\n",
        "if lenght == breadth:\n",
        "  print(\"It is Spuare\")\n",
        "else:\n",
        "  print(\"It is Rettangle\")"
      ],
      "metadata": {
        "colab": {
          "base_uri": "https://localhost:8080/"
        },
        "id": "jguHNA_-rmEh",
        "outputId": "4b3bd8b7-9791-4ae1-e0c2-6290088a7fb5"
      },
      "execution_count": 29,
      "outputs": [
        {
          "output_type": "stream",
          "name": "stdout",
          "text": [
            "Enter the Lenght: 333\n",
            "Enter the Breadth: 334\n",
            "It is Rettangle\n"
          ]
        }
      ]
    },
    {
      "cell_type": "markdown",
      "metadata": {
        "id": "UyFakEFPC0i7"
      },
      "source": [
        "10) Take two int values from user and print greatest among them."
      ]
    },
    {
      "cell_type": "code",
      "execution_count": 34,
      "metadata": {
        "id": "6dENdSkXC0i7",
        "colab": {
          "base_uri": "https://localhost:8080/"
        },
        "outputId": "94b9ceb1-5935-41bf-ad76-f0948fdb77ac"
      },
      "outputs": [
        {
          "output_type": "stream",
          "name": "stdout",
          "text": [
            "Enter the First Value : 8000\n",
            "Enter the Second Value : 7000\n",
            "Frist value 8000 Greater the Second Value 7000\n"
          ]
        }
      ],
      "source": [
        "# Type your code here\n",
        "\n",
        "f_value = int (input (\"Enter the First Value : \"))\n",
        "s_value = int (input (\"Enter the Second Value : \"))\n",
        "\n",
        "if f_value > s_value:\n",
        "  print(f\"Frist value {f_value} Greater the Second Value {s_value}\" )\n",
        "else:\n",
        "    print(f\"Frist value {f_value} not Greater the Second Value {s_value}\" )"
      ]
    },
    {
      "cell_type": "markdown",
      "metadata": {
        "id": "eQXPWxfLC0i7"
      },
      "source": [
        "11) A shop will give discount of 10% if the cost of purchased quantity is more than 1000.\n",
        "Ask user for quantity\n",
        "Suppose, one unit will cost 100.\n",
        "Judge and print total cost for user."
      ]
    },
    {
      "cell_type": "code",
      "execution_count": 37,
      "metadata": {
        "id": "RCZng7SaC0i7",
        "colab": {
          "base_uri": "https://localhost:8080/"
        },
        "outputId": "544ca65d-ee9e-45a7-d5ad-f6fe58ce9397"
      },
      "outputs": [
        {
          "output_type": "stream",
          "name": "stdout",
          "text": [
            "Enter the Quantity and  1 unit cost is 100: 11\n",
            " total cost is 990.0\n"
          ]
        }
      ],
      "source": [
        "#Type your code here\n",
        "\n",
        "quentity = int(input(\"Enter the Quantity and  1 unit cost is 100: \"))\n",
        "\n",
        "total_cost = quentity *100\n",
        "\n",
        "if total_cost > 1000:\n",
        "  total_cost = total_cost - total_cost *10/100\n",
        "  print(f\" total cost is {total_cost}\" )\n",
        "else:\n",
        "  print(f\" total cost is {total_cost}\" )\n"
      ]
    },
    {
      "cell_type": "markdown",
      "metadata": {
        "id": "E1ZyiYVvC0i7"
      },
      "source": [
        "12) A school has following rules for grading system:\n",
        "\n",
        "a. Below 25 - F\n",
        "\n",
        "b. 25 to 45 - E\n",
        "\n",
        "c. 45 to 50 - D\n",
        "\n",
        "d. 50 to 60 - C\n",
        "\n",
        "e. 60 to 80 - B\n",
        "\n",
        "f. Above 80 - A\n",
        "\n",
        "Ask user to enter marks and print the corresponding grade."
      ]
    },
    {
      "cell_type": "code",
      "execution_count": 39,
      "metadata": {
        "id": "gjYYM1RPC0i7",
        "colab": {
          "base_uri": "https://localhost:8080/"
        },
        "outputId": "238a5970-e051-4849-eefa-236ffdb5cb01"
      },
      "outputs": [
        {
          "output_type": "stream",
          "name": "stdout",
          "text": [
            "Please enter your total makrs100\n",
            "your total marks are  100  and your grade is A\n"
          ]
        }
      ],
      "source": [
        "#Type your code here\n",
        "\n",
        "marks = int (input(\"Please enter your total makrs\"))\n",
        "\n",
        "if marks >= 80 and marks <  101:\n",
        "  print(\"your total marks are \", marks, \" and your grade is A\")\n",
        "\n",
        "elif marks >= 60  and marks < 80:\n",
        "  print(\"your total marks are \", marks, \" and your grade is B\")\n",
        "\n",
        "elif marks >= 50 and marks < 60:\n",
        "  print(\"your total marks are \", marks, \" and your grade is C\")\n",
        "\n",
        "elif marks >= 45 and marks < 50:\n",
        "  print(\"your total marks are \", marks, \" and your grade is D\")\n",
        "\n",
        "elif marks >= 25 and marks < 45:\n",
        "  print(\"your total marks are \", marks, \" and your grade is E\")\n",
        "\n",
        "elif marks  < 25:\n",
        "  print(\"your total marks are \", marks, \" and your grade is F\")\n",
        "\n",
        "else:\n",
        "  print(\"invalid marks\")"
      ]
    },
    {
      "cell_type": "markdown",
      "metadata": {
        "id": "W4Qc7pUSC0i7"
      },
      "source": [
        "14)A student will not be allowed to sit in exam if his/her attendence is less than 75%.\n",
        "\n",
        "Take following input from user\n",
        "\n",
        "- Number of classes held\n",
        "\n",
        "- Number of classes attended.\n",
        "\n",
        "And print\n",
        "\n",
        "- percentage of class attended\n",
        "\n",
        "- Is student is allowed to sit in exam or not.\n"
      ]
    },
    {
      "cell_type": "code",
      "execution_count": 40,
      "metadata": {
        "id": "_yUkJHzNC0i7",
        "colab": {
          "base_uri": "https://localhost:8080/"
        },
        "outputId": "859dd067-2d1f-4a5c-9551-135845b66980"
      },
      "outputs": [
        {
          "output_type": "stream",
          "name": "stdout",
          "text": [
            "Enter the Number of Classes Held: 10\n",
            "Enter the Number of Classes Attended: 8\n",
            " percentage of class attended 80.0\n",
            " your are allow to sit in exam\n"
          ]
        }
      ],
      "source": [
        "#Type your code here\n",
        "class_held = int(input(\"Enter the Number of Classes Held: \"))\n",
        "class_attend = int(input(\"Enter the Number of Classes Attended: \"))\n",
        "percentage = (class_attend / class_held *100 )\n",
        "\n",
        "print (f\" percentage of class attended {percentage}\")\n",
        "\n",
        "if percentage < 75:\n",
        "  print(\" your are not allow to sit in exam \")\n",
        "else:\n",
        "  print(\" your are allow to sit in exam\")"
      ]
    },
    {
      "cell_type": "markdown",
      "metadata": {
        "id": "RkvUHtyBC0i7"
      },
      "source": [
        "15) Modify the above question to allow student to sit if he/she has medical cause. Ask user if he/she has medical cause or not ( 'Y' or 'N' ) and print accordingly."
      ]
    },
    {
      "cell_type": "code",
      "execution_count": 47,
      "metadata": {
        "id": "aSHaMR6aC0i7",
        "colab": {
          "base_uri": "https://localhost:8080/"
        },
        "outputId": "48f178bc-fa9c-4ab9-c628-4437c7f811a1"
      },
      "outputs": [
        {
          "output_type": "stream",
          "name": "stdout",
          "text": [
            "Enter the Number of Classes Held: 10\n",
            "Enter the Number of Classes Attended: 7\n",
            " absent due to any madical cause or not :True\n",
            " percentage of class attended 70.0\n",
            " your are allow to sit in exam\n"
          ]
        }
      ],
      "source": [
        "#Type your code here\n",
        "\n",
        "class_held = int(input(\"Enter the Number of Classes Held: \"))\n",
        "class_attend = int(input(\"Enter the Number of Classes Attended: \"))\n",
        "medical_cause = bool(input(\" absent due to any madical cause or not :\"))\n",
        "percentage = (class_attend / class_held *100 )\n",
        "\n",
        "print (f\" percentage of class attended {percentage}\")\n",
        "\n",
        "if percentage < 75 and medical_cause == False:\n",
        "  print(\" your are not allow to sit in exam \")\n",
        "else:\n",
        "  print(\" your are allow to sit in exam\")\n",
        "\n"
      ]
    },
    {
      "cell_type": "markdown",
      "metadata": {
        "id": "H9Gc2qMeC0i7"
      },
      "source": [
        "16) Write a program to check if a year is leap year or not.\n",
        "\n",
        "If a year is divisible by 4 then it is leap year but if the year is century year like 2000, 1900, 2100 then it must be divisible by 400."
      ]
    },
    {
      "cell_type": "code",
      "execution_count": 48,
      "metadata": {
        "id": "aYrYTsczC0i8",
        "colab": {
          "base_uri": "https://localhost:8080/"
        },
        "outputId": "c4798702-1be8-4048-f536-cd75f5b2b366"
      },
      "outputs": [
        {
          "output_type": "stream",
          "name": "stdout",
          "text": [
            " please enter the year : 2000\n",
            "2000  is leap year\n"
          ]
        }
      ],
      "source": [
        "#Type your code here\n",
        "year = int(input (\" please enter the year : \"))\n",
        "\n",
        "if year % 400 == 0:\n",
        "  print(year, \" is leap year\")\n",
        "else:\n",
        "  print (year,\" not and leap year\")\n"
      ]
    },
    {
      "cell_type": "markdown",
      "metadata": {
        "id": "SgSB4V7KC0i8"
      },
      "source": [
        "17) Ask user to enter age, gender ( M or F ), marital status ( Y or N ) and then using following rules print their place of service.\n",
        "\n",
        "if employee is female, then she will work only in urban areas.\n",
        "\n",
        "if employee is a male and age is in between 20 to 40 then he may work in anywhere\n",
        "\n",
        "if employee is male and age is in between 40 t0 60 then he will work in urban areas only.\n",
        "\n",
        "And any other input of age should print \"ERROR\""
      ]
    },
    {
      "cell_type": "code",
      "execution_count": 52,
      "metadata": {
        "id": "s4v0hdUrC0i8",
        "colab": {
          "base_uri": "https://localhost:8080/"
        },
        "outputId": "d439e745-6d17-4acc-922e-d5d9da40e326"
      },
      "outputs": [
        {
          "output_type": "stream",
          "name": "stdout",
          "text": [
            "enter the age : 60\n",
            "enter the gender (Male / Female) : Female\n",
            "enter the marital status (yes / No): Yes\n",
            "she will work only in urban areas.\n"
          ]
        }
      ],
      "source": [
        "#Type your code here\n",
        "\n",
        "age = int(input(\"enter the age : \"))\n",
        "gender = str(input(\"enter the gender (Male / Female) : \"))\n",
        "marital_status = input(\"enter the marital status (yes / No): \")\n",
        "\n",
        "if gender == \"Female\" and age >= 20 and age <= 60:\n",
        "  print(\"she will work only in urban areas.\")\n",
        "elif gender == \"Male\" and age >= 20 and age <= 39:\n",
        "  print(\"he may work in anywhere\")\n",
        "elif gender == \"Male\" and age >= 40 and age <= 60:\n",
        "  print(\"he will work in urban areas only.\")\n",
        "else:\n",
        "  print(\" age error\")\n"
      ]
    },
    {
      "cell_type": "markdown",
      "metadata": {
        "id": "bxBzmjvvC0i8"
      },
      "source": [
        "6) Write a program to calculate the electricity bill (accept number of unit from user) according to the following criteria :\n",
        "     Unit                                                     Price  \n",
        "uptp 100 units                                             no charge\n",
        "Next 200 units                                              Rs 5 per unit\n",
        "After 200 units                                             Rs 10 per unit\n",
        "(For example if input unit is 350 than total bill amount is Rs.3500\n",
        "(For example if input unit is 97 than total bill amount is Rs.0\n",
        "(For example if input unit is 150 than total bill amount is Rs.750"
      ]
    },
    {
      "cell_type": "code",
      "source": [
        "units = int(input(\"enter the units : \"))\n",
        "unit_price = 0\n",
        "\n",
        "if units <= 100:\n",
        "  print(\"no charges , total amount of bill is 0.00\")\n",
        "elif units >100 and units <= 200:\n",
        "  unit_price = units * 5\n",
        "  print(\"your electricity charges are \" , unit_price)\n",
        "else:\n",
        "  unit_price = units * 10\n",
        "  print(\"your electricity charges are \" , unit_price)"
      ],
      "metadata": {
        "colab": {
          "base_uri": "https://localhost:8080/"
        },
        "id": "KqH6BOaY8HAi",
        "outputId": "9d080cdf-9b94-4209-a63b-6048260d4d59"
      },
      "execution_count": 59,
      "outputs": [
        {
          "output_type": "stream",
          "name": "stdout",
          "text": [
            "enter the units : 150\n",
            "your electricity charges are  750\n"
          ]
        }
      ]
    },
    {
      "cell_type": "markdown",
      "metadata": {
        "id": "dTete46hC0i_"
      },
      "source": [
        "13) Take input of age of 3 people by user and determine oldest and youngest among them."
      ]
    },
    {
      "cell_type": "code",
      "execution_count": 60,
      "metadata": {
        "id": "dzPNKVrbC0jA",
        "colab": {
          "base_uri": "https://localhost:8080/"
        },
        "outputId": "3c5176e6-5458-4466-fa17-5b893e85b2e5"
      },
      "outputs": [
        {
          "output_type": "stream",
          "name": "stdout",
          "text": [
            "Enter the age of user1: 33\n",
            "Enter the age of user2: 34\n",
            "Enter the age of user3: 35\n",
            "user3 is oldest\n",
            "user1 is youngest\n"
          ]
        }
      ],
      "source": [
        "user1 = int(input(\"Enter the age of user1: \"))\n",
        "user2 = int(input(\"Enter the age of user2: \"))\n",
        "user3 = int(input(\"Enter the age of user3: \"))\n",
        "\n",
        "if user1 > user2 and user1 > user3:\n",
        "  print(\"user1 is oldest\")\n",
        "elif user2 > user1 and user2 > user3:\n",
        "  print(\"user2 is oldest\")\n",
        "else:\n",
        "  print(\"user3 is oldest\")\n",
        "\n",
        "if user1 < user2 and user1 < user3:\n",
        "  print(\"user1 is youngest\")\n",
        "elif user2 < user1 and user2 < user3:\n",
        "  print(\"user2 is youngest\")\n",
        "else:\n",
        "  print(\"user3 is youngest\")\n",
        ""
      ]
    },
    {
      "cell_type": "code",
      "source": [],
      "metadata": {
        "id": "8BiSRwav-mSc"
      },
      "execution_count": null,
      "outputs": []
    }
  ],
  "metadata": {
    "kernelspec": {
      "display_name": "Python 3 (ipykernel)",
      "language": "python",
      "name": "python3"
    },
    "language_info": {
      "codemirror_mode": {
        "name": "ipython",
        "version": 3
      },
      "file_extension": ".py",
      "mimetype": "text/x-python",
      "name": "python",
      "nbconvert_exporter": "python",
      "pygments_lexer": "ipython3",
      "version": "3.11.5"
    },
    "colab": {
      "provenance": [],
      "toc_visible": true
    }
  },
  "nbformat": 4,
  "nbformat_minor": 0
}